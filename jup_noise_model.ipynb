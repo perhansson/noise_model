{
 "cells": [
  {
   "cell_type": "markdown",
   "metadata": {},
   "source": [
    "Noise model notebook for the SuperCDMS ionization readout."
   ]
  },
  {
   "cell_type": "markdown",
   "metadata": {},
   "source": [
    "![title](img/charge_circuit.png)"
   ]
  },
  {
   "cell_type": "code",
   "execution_count": null,
   "metadata": {},
   "outputs": [],
   "source": [
    "%matplotlib notebook\n",
    "\n",
    "#!/bin/python\n",
    "\n",
    "import sys\n",
    "import argparse\n",
    "import cmath\n",
    "import numpy as np\n",
    "import matplotlib.pyplot as plt\n",
    "from lib import impedance as Q\n"
   ]
  },
  {
   "cell_type": "code",
   "execution_count": null,
   "metadata": {
    "collapsed": true
   },
   "outputs": [],
   "source": [
    "logy = True\n",
    "T_4K = 4.0\n",
    "T_300K = 300.0\n",
    "drainI = 1e-3"
   ]
  },
  {
   "cell_type": "markdown",
   "metadata": {},
   "source": [
    "First create some helper functions"
   ]
  },
  {
   "cell_type": "code",
   "execution_count": null,
   "metadata": {
    "collapsed": true
   },
   "outputs": [],
   "source": [
    "def to_np_array(func, arr):\n",
    "    return np.array([func(a) for a in arr])"
   ]
  },
  {
   "cell_type": "code",
   "execution_count": null,
   "metadata": {
    "collapsed": true
   },
   "outputs": [],
   "source": [
    "def impedancePlot(fig, f, Z, name=None, ylabel='Impedance', xlabel='Frequency (Hz)', note=None, legend=None):\n",
    "    \"\"\"Plot impedance and phase\"\"\"\n",
    "\n",
    "\n",
    "    if fig == None:\n",
    "        plt.figure()\n",
    "    \n",
    "    ax_MC211 = plt.subplot(211)\n",
    "    line1, = plt.plot(f, np.abs(Z), label=legend)\n",
    "    plt.ylabel(ylabel)\n",
    "    plt.xlabel(xlabel)\n",
    "    if logy:\n",
    "        ax_MC211.set_yscale(u'log')\n",
    "    ax_MC211.set_xscale(u'log')\n",
    "    if note:\n",
    "        plt.text(0.1, 0.9, note, transform = ax_MC211.transAxes)\n",
    "    if legend:\n",
    "        #hs = ax_MC211.get_legend_handles_labels()\n",
    "        #hs = [hs,line1]\n",
    "        #if hss:\n",
    "        #    handles.append(line1)\n",
    "        plt.legend()\n",
    "        #else:\n",
    "        #    plt.legend(handles=[line1])\n",
    "    \n",
    "\n",
    "    Z_phase = to_np_array(cmath.phase, Z)\n",
    "\n",
    "    ax_MC212 = plt.subplot(212)\n",
    "    plt.plot(f, Q.radToDeg(Z_phase))\n",
    "    plt.ylabel('Phase')\n",
    "    plt.xlabel('Frequency')\n",
    "    #ax_MC1.set_yscale(u'log')\n",
    "    ax_MC212.set_xscale(u'log')\n",
    "\n",
    "    if name:\n",
    "        plt.savefig(name,bbox_inches='tight')\n",
    "\n",
    "    \n",
    "    return [ax_MC211, ax_MC212]"
   ]
  },
  {
   "cell_type": "code",
   "execution_count": null,
   "metadata": {
    "collapsed": true
   },
   "outputs": [],
   "source": [
    "def noisePlot(fig, f, Z, name=None, ylabel='Noise', xlabel='Frequency', note=None, legend=None):\n",
    "    \"\"\"Plot noise.\"\"\"\n",
    "\n",
    "    if fig == None:\n",
    "        plt.figure()\n",
    "\n",
    "    \n",
    "    ax_MC211 = plt.subplot(111)\n",
    "    line1, = plt.plot(f, np.abs(Z), label=legend)\n",
    "    plt.ylabel(ylabel)\n",
    "    plt.xlabel(xlabel)\n",
    "    if logy:\n",
    "        ax_MC211.set_yscale(u'log')\n",
    "    ax_MC211.set_xscale(u'log')\n",
    "    if note:\n",
    "        plt.text(0.1, 0.9, note, transform = ax_MC211.transAxes)\n",
    "    if legend:\n",
    "        #hs = ax_MC211.get_legend_handles_labels()\n",
    "        #hs = [hs,line1]\n",
    "        #if hss:\n",
    "        #    handles.append(line1)\n",
    "        plt.legend()\n",
    "        #else:\n",
    "        #    plt.legend(handles=[line1])\n",
    "\n",
    "    if name:\n",
    "        plt.savefig(name,bbox_inches='tight')\n",
    "\n",
    "\n",
    "    return [ax_MC211]\n",
    "              \n",
    "\n",
    "\n"
   ]
  },
  {
   "cell_type": "markdown",
   "metadata": {},
   "source": [
    "Initialize all the circuits that we will use."
   ]
  },
  {
   "cell_type": "code",
   "execution_count": null,
   "metadata": {
    "collapsed": true
   },
   "outputs": [],
   "source": [
    "Z1_MC = Q.Z1_MC('Z1_MC')\n",
    "Z1_g = Q.Z1_g('Z1_g')\n",
    "Z2 = Q.Z2('Z2')\n",
    "Z3 = Q.Z3('Z3')\n",
    "Z4 = Q.Z4('Z4')\n",
    "Z5 = Q.Z5('Z5')\n",
    "Z6 = Q.Z6('Z6')\n",
    "opamp = Q.LT1677('opamp')\n",
    "bjt = Q.BJT('bjt')\n",
    "hemt = Q.HEMT('HEMT')"
   ]
  },
  {
   "cell_type": "markdown",
   "metadata": {},
   "source": [
    "Create the frequency array we use for most plots vs freq."
   ]
  },
  {
   "cell_type": "code",
   "execution_count": null,
   "metadata": {
    "collapsed": true
   },
   "outputs": [],
   "source": [
    "f_arr = np.logspace(0,6)\n",
    "#f_arr = np.append(np.logspace(0,4)[:-1],np.logspace(4,5))"
   ]
  },
  {
   "cell_type": "markdown",
   "metadata": {},
   "source": [
    "Calculate opamp gain"
   ]
  },
  {
   "cell_type": "code",
   "execution_count": null,
   "metadata": {},
   "outputs": [],
   "source": [
    "Aopen = to_np_array(opamp.Aopen, f_arr)\n",
    "impedancePlot(plt.figure(), f_arr, Aopen, 'Aopen_opamp.png', ylabel='Aopen opamp', note='Aopen opamp')\n"
   ]
  },
  {
   "cell_type": "markdown",
   "metadata": {},
   "source": [
    "Feedback setup for the opamp below."
   ]
  },
  {
   "cell_type": "code",
   "execution_count": null,
   "metadata": {},
   "outputs": [],
   "source": [
    "\n",
    "Z_Z5 = to_np_array(Z5.Z_tot,f_arr)\n",
    "Z_Z6 = to_np_array(Z6.Z_tot,f_arr)\n",
    "fig = plt.figure()\n",
    "impedancePlot(fig, f_arr, Z_Z5, legend=r'$Z_{5}$')\n",
    "impedancePlot(fig, f_arr, Z_Z6, 'Z_Z5_Z6.png', legend=r'$Z_{6}$')"
   ]
  },
  {
   "cell_type": "markdown",
   "metadata": {},
   "source": [
    "Feedback fraction for the opamp\n",
    "There is no damping because the opamp is non-inverting."
   ]
  },
  {
   "cell_type": "code",
   "execution_count": null,
   "metadata": {
    "scrolled": true
   },
   "outputs": [],
   "source": [
    "B = Z_Z5/(Z_Z5 +Z_Z6)\n",
    "fig = plt.figure()\n",
    "impedancePlot(fig, f_arr, B, 'B.png',ylabel='Opamp feedback fraction B',note='Feedback fraction B')\n",
    "#fig.clf()\n",
    "\n"
   ]
  },
  {
   "cell_type": "markdown",
   "metadata": {},
   "source": [
    "opamp closed loop gain"
   ]
  },
  {
   "cell_type": "code",
   "execution_count": null,
   "metadata": {},
   "outputs": [],
   "source": [
    "Aclosed = Aopen/(1 + Aopen*B)\n",
    "\n",
    "impedancePlot(plt.figure(), f_arr, Aclosed, 'Aclosed_opamp.png', ylabel='Aclosed opamp', note='Aclosed opamp')\n",
    "\n"
   ]
  },
  {
   "cell_type": "markdown",
   "metadata": {},
   "source": [
    "## Voltage gain of HEMT. \n",
    "Gain given by gm times load"
   ]
  },
  {
   "cell_type": "code",
   "execution_count": null,
   "metadata": {},
   "outputs": [],
   "source": [
    "# load impedance\n",
    "Z_Z3 = to_np_array(Z3.Z_tot, f_arr)\n",
    "\n",
    "# take into account any load impedance from current mirror in series \n",
    "Z_BJT = to_np_array(bjt.Z_tot, f_arr)\n",
    "Z_load = Z_Z3 + Z_BJT\n",
    "\n",
    "# any impedance from mirror would split voltage gain at opamp input\n",
    "Aopen_HEMT = hemt.gm*Z_load*(Z_Z3/Z_load)\n",
    "\n",
    "fig=plt.figure()\n",
    "impedancePlot(fig, f_arr, Z_Z3, 'Z3.png', note='Z3')\n",
    "fig=plt.figure()\n",
    "impedancePlot(fig, f_arr, Z_load, 'Z_load.png', note='Z_load')\n",
    "fig=plt.figure()\n",
    "impedancePlot(fig, f_arr, Aopen_HEMT, 'Aopen_HEMT.png', ylabel='Aopen HEMT', note='Aopen HEMT gm={0:.1f}mS'.format(hemt.gm*1e3))\n"
   ]
  },
  {
   "cell_type": "markdown",
   "metadata": {},
   "source": [
    "## Total voltage gain\n",
    "\n",
    "Total open loop gain is product of closed opamp gain and open HEMT gain"
   ]
  },
  {
   "cell_type": "code",
   "execution_count": null,
   "metadata": {},
   "outputs": [],
   "source": [
    "Atotal_open = Aclosed*Aopen_HEMT\n",
    "\n",
    "impedancePlot(plt.figure(), f_arr, Atotal_open, 'Atotal_open.png', ylabel='Gain', note='Total open loop gain')\n",
    "\n",
    "\n",
    "\n",
    "\n"
   ]
  },
  {
   "cell_type": "markdown",
   "metadata": {},
   "source": [
    "### Feedback for inverting amplifier"
   ]
  },
  {
   "cell_type": "markdown",
   "metadata": {},
   "source": [
    "HEMT input impedance: input capacitance and input resistor are parallel to ground"
   ]
  },
  {
   "cell_type": "code",
   "execution_count": null,
   "metadata": {},
   "outputs": [],
   "source": [
    "Z_HEMT = to_np_array(hemt.Z_tot, f_arr) \n",
    "impedancePlot(plt.figure(), f_arr, Z_HEMT, 'Z_HEMT.png', note=r'$Z_{HEMT}$')"
   ]
  },
  {
   "cell_type": "markdown",
   "metadata": {},
   "source": [
    "Impedance of gate coupling capacitor to the HEMT gate input"
   ]
  },
  {
   "cell_type": "code",
   "execution_count": null,
   "metadata": {},
   "outputs": [],
   "source": [
    "Z_Z1_g = to_np_array(Z1_g.Z_tot, f_arr) \n",
    "impedancePlot(plt.figure(), f_arr, Z_Z1_g, 'Z1_g.png', note=r'$Z_{1g}$')"
   ]
  },
  {
   "cell_type": "markdown",
   "metadata": {},
   "source": [
    "The gate coupling capacitor is in series with an open connection"
   ]
  },
  {
   "cell_type": "code",
   "execution_count": null,
   "metadata": {},
   "outputs": [],
   "source": [
    "Ropen = Q.Resistor(1e19,'Ropen')\n",
    "Z_Z1_open = Q.series(Z_Z1_g, Ropen.Z(f_arr))\n",
    "\n",
    "impedancePlot(plt.figure(), f_arr, Z_Z1_open, 'Z1_open.png', note=r'$Z_{1,open}$')"
   ]
  },
  {
   "cell_type": "markdown",
   "metadata": {},
   "source": [
    "The feedback signal are split between the HEMT input impedance and gate coupling capactor"
   ]
  },
  {
   "cell_type": "code",
   "execution_count": null,
   "metadata": {},
   "outputs": [],
   "source": [
    "Z_input_4K = Q.parallel(Z_HEMT, Z_Z1_open)\n",
    "impedancePlot(plt.figure(), f_arr, Z_input_4K, 'Z_input_4K.png', note=r'$Z_{input,4K}$')\n"
   ]
  },
  {
   "cell_type": "markdown",
   "metadata": {},
   "source": [
    "Feedback impedance"
   ]
  },
  {
   "cell_type": "code",
   "execution_count": null,
   "metadata": {},
   "outputs": [],
   "source": [
    "Z_Z2 = to_np_array(Z2.Z_tot, f_arr) \n",
    "\n",
    "impedancePlot(plt.figure(), f_arr, Z_Z2, 'Z2.png', note=r'$Z_{2}$')\n"
   ]
  },
  {
   "cell_type": "markdown",
   "metadata": {},
   "source": [
    "Feedback fraction and damping"
   ]
  },
  {
   "cell_type": "code",
   "execution_count": null,
   "metadata": {},
   "outputs": [],
   "source": [
    "H_fb = Z_input_4K/(Z_input_4K + Z_Z2)\n",
    "H_in = -1*Z_Z2/(Z_input_4K + Z_Z2)\n",
    "\n",
    "fig = plt.figure()\n",
    "impedancePlot(fig, f_arr, H_fb, legend=r'$H_{fb}$')\n",
    "impedancePlot(fig, f_arr, H_in, 'H_in_fb.png', legend=r'$H_{in}$', ylabel='Feedback fraction & damping')\n",
    "\n"
   ]
  },
  {
   "cell_type": "markdown",
   "metadata": {},
   "source": [
    "### total closed loop voltage gain"
   ]
  },
  {
   "cell_type": "code",
   "execution_count": null,
   "metadata": {
    "collapsed": true
   },
   "outputs": [],
   "source": [
    "Atotal_closed = H_in*Atotal_open/(1+Atotal_open*H_fb)\n",
    "\n",
    "impedancePlot(fig, f_arr, Atotal_closed, 'Atotal_closed.png', ylabel='Gain', note='Total closed')\n",
    "fig.clf()\n"
   ]
  },
  {
   "cell_type": "markdown",
   "metadata": {},
   "source": [
    "Cross check effect from damping and feedback fraction"
   ]
  },
  {
   "cell_type": "code",
   "execution_count": null,
   "metadata": {},
   "outputs": [],
   "source": [
    "Atotal_closed_no_H_in = Atotal_open/(1+Atotal_open*H_fb)\n",
    "Atotal_closed_no_H_fb = H_in*Atotal_open/(1+Atotal_open)\n",
    "\n",
    "fig=plt.figure()\n",
    "impedancePlot(fig, f_arr, Atotal_closed,legend='Total closed')\n",
    "impedancePlot(fig, f_arr, Atotal_closed_no_H_in, legend=r'No $H_{in}$')\n",
    "impedancePlot(fig, f_arr, Atotal_closed_no_H_fb, ylabel='Gain', legend=r'No $H_{fb}$',note='Compare FB/damping effect.', name='Atotal_closed_cmp.png')\n"
   ]
  },
  {
   "cell_type": "markdown",
   "metadata": {},
   "source": [
    "### Include circuitry at MC stage"
   ]
  },
  {
   "cell_type": "markdown",
   "metadata": {},
   "source": [
    "Calculate impedance contribution from  circuitry at the MC stage"
   ]
  },
  {
   "cell_type": "code",
   "execution_count": null,
   "metadata": {},
   "outputs": [],
   "source": [
    "Z_Z1_MC = to_np_array(Z1_MC.Z_tot,f_arr)\n",
    "impedancePlot(plt.figure(), f_arr, Z_Z1_MC, note='Z_Z1_MC', name='Z1_MC.png')\n"
   ]
  },
  {
   "cell_type": "markdown",
   "metadata": {},
   "source": [
    " makes some cross check on the bahavior of the Z1_MC contributions"
   ]
  },
  {
   "cell_type": "code",
   "execution_count": null,
   "metadata": {},
   "outputs": [],
   "source": [
    "Z1_MC_det100pf = Q.Z1_MC('Z1_MC_det100pf',Cdet=100.0e-12)\n",
    "Z1_MC_det10pf = Q.Z1_MC('Z1_MC_det10pf',Cdet=10.0e-12)\n",
    "Z1_MC_Rbias10Meg = Q.Z1_MC('Z1_MC_Rbias10Meg',Rbias=10.0e6)\n",
    "Z_Z1_MC_det100pf = to_np_array(Z1_MC_det100pf.Z_tot,f_arr)\n",
    "Z_Z1_MC_det10pf = to_np_array(Z1_MC_det10pf.Z_tot,f_arr)\n",
    "Z_Z1_MC_Rbias10Meg = to_np_array(Z1_MC_Rbias10Meg.Z_tot,f_arr)\n",
    "fig = plt.figure()\n",
    "impedancePlot(fig, f_arr, Z_Z1_MC, legend='Z_Z1_MC')\n",
    "impedancePlot(fig, f_arr, Z_Z1_MC_det100pf, legend='Z_Z1_MC_det100pf')\n",
    "impedancePlot(fig, f_arr, Z_Z1_MC_det10pf, legend='Z_Z1_MC_det10pf')\n",
    "impedancePlot(fig, f_arr, Z_Z1_MC_Rbias10Meg, legend='Z_Z1_MC_Rbias10Meg', name='Z1_MC_cmp.png')\n",
    "\n"
   ]
  },
  {
   "cell_type": "markdown",
   "metadata": {},
   "source": [
    "The MC stage contribution is connected in series with 4K stage through Cc"
   ]
  },
  {
   "cell_type": "code",
   "execution_count": null,
   "metadata": {},
   "outputs": [],
   "source": [
    "Z_Z1_MC_g = Q.series(Z_Z1_g, Z_Z1_MC)\n",
    "#Z_Z1_MC_g = Z_Z1_MC #Q.series(Z_Z1_g, Z_Z1_MC)\n",
    "fig = plt.figure()\n",
    "impedancePlot(fig, f_arr, Z_Z1_MC_g, note='Z_Z1_MC_g', name='Z1_MC_g.png')\n",
    "\n",
    "fig = plt.figure()\n",
    "impedancePlot(fig, f_arr, Z_Z1_MC, legend='Z_Z1_MC')\n",
    "impedancePlot(fig, f_arr, Z_Z1_g, legend='Z_Z1_g')\n",
    "impedancePlot(fig, f_arr, Z_Z1_MC_g, legend='Z_Z1_MC_g', name='Z1_MC_cmp.png')\n",
    "\n"
   ]
  },
  {
   "cell_type": "markdown",
   "metadata": {},
   "source": [
    "The feedback signal are split between the HEMT input impedance and gate coupling capactor"
   ]
  },
  {
   "cell_type": "code",
   "execution_count": null,
   "metadata": {},
   "outputs": [],
   "source": [
    "Z_input = Q.parallel(Z_HEMT, Z_Z1_MC_g)\n",
    "fig = plt.figure()\n",
    "impedancePlot(fig, f_arr, Z_input, note='Z_input', name='Z_input.png')"
   ]
  },
  {
   "cell_type": "markdown",
   "metadata": {},
   "source": [
    "Compare w/ and w/o MC stage"
   ]
  },
  {
   "cell_type": "code",
   "execution_count": null,
   "metadata": {},
   "outputs": [],
   "source": [
    "fig = plt.figure()\n",
    "impedancePlot(fig, f_arr, Z_input, legend='Z_input')\n",
    "impedancePlot(fig, f_arr, Z_input_4K, legend='Z_input_4K')\n",
    "impedancePlot(fig, f_arr, Z_Z1_MC_g, legend='Z1_MC',name='Z_input_cmp.png')"
   ]
  },
  {
   "cell_type": "markdown",
   "metadata": {},
   "source": [
    "Feedback fraction and input damping"
   ]
  },
  {
   "cell_type": "code",
   "execution_count": null,
   "metadata": {},
   "outputs": [],
   "source": [
    "# feedback fraction\n",
    "H_fb_det = Z_input/(Z_input + Z_Z2)\n",
    "fig = plt.figure()\n",
    "impedancePlot(fig, f_arr, H_fb_det, legend=r'$H_{fb,det}$')\n",
    "\n",
    "# input damping\n",
    "H_in_det = -1*Z_Z2/(Z_input + Z_Z2)\n",
    "\n",
    "impedancePlot(fig, f_arr, H_in_det, 'H_in_fb_det.png', note='FB and damping w/ det', legend=r'$H_{in,det}$')\n"
   ]
  },
  {
   "cell_type": "markdown",
   "metadata": {},
   "source": [
    "### total closed loop voltage gain"
   ]
  },
  {
   "cell_type": "code",
   "execution_count": null,
   "metadata": {},
   "outputs": [],
   "source": [
    "Atotal_closed_det = H_in_det*Atotal_open/(1+Atotal_open*H_fb_det)\n",
    "\n",
    "fig = plt.figure()\n",
    "impedancePlot(fig, f_arr, Atotal_closed_det, 'Atotal_closed_det.png', ylabel='Atotal closed det', note='Atotal_closed_det')\n",
    "\n",
    "# compare w/ and w/o MC stage\n",
    "fig = plt.figure()\n",
    "impedancePlot(fig, f_arr, Atotal_closed_det, legend='Total closed w/ det')\n",
    "impedancePlot(fig, f_arr, Atotal_closed, legend='Total closed',name='Atotal_closed_det_cmp.png',ylabel='Gain')\n"
   ]
  },
  {
   "cell_type": "markdown",
   "metadata": {},
   "source": [
    "## Noise calculation\n"
   ]
  },
  {
   "cell_type": "code",
   "execution_count": null,
   "metadata": {},
   "outputs": [],
   "source": [
    "\n",
    "\n",
    "# noise from feedback Circuit\n",
    "en_Z2 = np.sqrt(4*T_4K*Q.kB*Z_Z2.real)\n",
    "\n",
    "fig = plt.figure()\n",
    "noisePlot(fig, f_arr, en_Z2, name='en_Z2', ylabel='V/sqHz')\n",
    "\n",
    "en_Z2_input = en_Z2/Atotal_closed\n",
    "\n",
    "fig = plt.figure()\n",
    "noisePlot(fig, f_arr, en_Z2_input, name='en_Z2_gain', ylabel='V/sqHz')\n",
    "\n",
    "# noise from HEMT\n",
    "en_HEMT = hemt.voltageNoise(f_arr, fc=1.2e3, vflat=0.24e-9)\n",
    "\n",
    "fig = plt.figure()\n",
    "noisePlot(fig, f_arr, en_HEMT,  name='en_HEMT', ylabel='V/sqHz')\n",
    "\n",
    "# noise from Z3\n",
    "en_Z3 = np.sqrt(4*T_300K*Q.kB*Z_Z3.real)\n",
    "\n",
    "fig = plt.figure()\n",
    "noisePlot(fig, f_arr, en_Z3, ylabel='V/sqHz', legend=r'$e_{n}$(Z$_{3})$')\n",
    "\n",
    "# check this!\n",
    "en_Z3_input = en_Z3/Aopen_HEMT\n",
    "\n",
    "fig = plt.figure()\n",
    "noisePlot(fig, f_arr, en_Z3_input,  name='en_Z3_input', ylabel=r'$V/\\sqrt{Hz}$', legend=r'$e_{n}(Z_{3})$ (input)')\n",
    "\n",
    "\n",
    "\n",
    "# noise from BJT\n",
    "in_BJT = np.ones(len(f_arr))*bjt.currentNoise(drainI)\n",
    "\n",
    "fig = plt.figure()\n",
    "noisePlot(fig, f_arr, in_BJT, name='in_BJT', ylabel=r'A/\\sqrt{Hz}', note='BJT shot noise')\n",
    "\n",
    "# voltage noise as referred to the input of HEMT (scale by gm)\n",
    "en_BJT = in_BJT/hemt.gm\n",
    "\n",
    "fig = plt.figure()\n",
    "noisePlot(fig, f_arr, en_BJT, name='en_BJT', ylabel=r'V/\\sqrt{Hz}', note=r'BJT shot noise (input, gm={0:.1f}mS)'.format(hemt.gm*1e3))\n",
    "#impedancePlot(fig, f_arr, Aopen_HEMT, 'Aopen_HEMT.png', ylabel='Aopen HEMT', note='Aopen HEMT gm={0:.1f}mS'.format(hemt.gm*1e3))\n",
    "\n",
    "\n"
   ]
  },
  {
   "cell_type": "code",
   "execution_count": null,
   "metadata": {
    "collapsed": true
   },
   "outputs": [],
   "source": []
  }
 ],
 "metadata": {
  "kernelspec": {
   "display_name": "Python 3",
   "language": "python",
   "name": "python3"
  },
  "language_info": {
   "codemirror_mode": {
    "name": "ipython",
    "version": 3
   },
   "file_extension": ".py",
   "mimetype": "text/x-python",
   "name": "python",
   "nbconvert_exporter": "python",
   "pygments_lexer": "ipython3",
   "version": "3.5.1"
  }
 },
 "nbformat": 4,
 "nbformat_minor": 2
}
